{
 "cells": [
  {
   "cell_type": "code",
   "execution_count": null,
   "outputs": [],
   "source": [
    "import numpy as np\n",
    "import math\n",
    "import pickle\n",
    "import os\n",
    "\n",
    "from src.focus_lens_quadric_primitive import FocusLensQuadricPrimitive\n",
    "from src.focus_doe_quadric_primitive import FocusDOEQuadricPrimitive\n",
    "import src.utils_energy_distribution as en_util\n",
    "import src.utils_optimization as opt_util\n",
    "import src.utils_display as disp_util\n",
    "import src.utils_files as files_util\n",
    "\n",
    "dtype = np.double"
   ],
   "metadata": {
    "collapsed": false,
    "pycharm": {
     "name": "#%%\n"
    }
   }
  },
  {
   "cell_type": "code",
   "execution_count": null,
   "outputs": [],
   "source": [
    "batch_folder_name = \"quad_batches\"\n",
    "batch_file_default_name = \"quad_batch\"\n",
    "batch_file_ext = \".ebv\"\n",
    "\n",
    "save_surface_file_name = 'data/16x16_surf.ebv'\n",
    "load_surface_file_name = 'data/16x16_surf.ebv'"
   ],
   "metadata": {
    "collapsed": false,
    "pycharm": {
     "name": "#%%\n"
    }
   }
  },
  {
   "cell_type": "markdown",
   "source": [
    "Create new dataset"
   ],
   "metadata": {
    "collapsed": false,
    "pycharm": {
     "name": "#%% md\n"
    }
   }
  },
  {
   "cell_type": "markdown",
   "source": [
    "1. Генерация лучей \"rays\" и точек \"exit_points\" в выходной плоскости. Лучи выбираются на апертуре радиусом \"src_app_radius\"."
   ],
   "metadata": {
    "collapsed": false,
    "pycharm": {
     "name": "#%% md\n"
    }
   }
  },
  {
   "cell_type": "code",
   "execution_count": null,
   "outputs": [],
   "source": [
    "num_samples_in_batch = int(512)\n",
    "num_batches = 13\n",
    "delete_folder_if_exists = False\n",
    "\n",
    "exit_x_num = 16\n",
    "\n",
    "exit_f_distance = 3e2\n",
    "exit_x_size = 50\n",
    "\n",
    "src_num_rays = int(4e4)\n",
    "src_app_radius = 5\n",
    "n_ref = 1.49\n",
    "use_closest_surface = False\n",
    "\n",
    "total_flux = 1\n",
    "\n",
    "project_params = {'src_app_radius': src_app_radius, 'total_flux': total_flux, 'exit_x_size': exit_x_size,\n",
    "                  'dtype': dtype}"
   ],
   "metadata": {
    "collapsed": false,
    "pycharm": {
     "name": "#%%\n"
    }
   }
  },
  {
   "cell_type": "code",
   "execution_count": null,
   "outputs": [],
   "source": [
    "# create rays\n",
    "nx = math.ceil(math.sqrt(4 / np.pi * src_num_rays))\n",
    "nx = 2 * math.floor(nx/2)\n",
    "r = np.linspace(-src_app_radius, src_app_radius, nx)\n",
    "x_rays, y_rays = np.meshgrid(r, r)\n",
    "good_rays = (x_rays ** 2 + y_rays ** 2) <= src_app_radius ** 2\n",
    "src_num_rays = np.count_nonzero(good_rays)\n",
    "\n",
    "rays = np.empty((src_num_rays, 3), dtype=dtype)\n",
    "rays[:, 0] = x_rays[good_rays]\n",
    "rays[:, 1] = y_rays[good_rays]\n",
    "rays[:, 2] = total_flux / src_num_rays\n",
    "\n",
    "# create exit plane coords\n",
    "dl = exit_x_size / exit_x_num\n",
    "l = np.linspace(-(exit_x_size + dl) / 2, (exit_x_size + dl) / 2, exit_x_num)\n",
    "x_exit, y_exit = np.meshgrid(l, l)\n",
    "exit_points = np.empty((exit_x_num, exit_x_num, 3), dtype=dtype)\n",
    "exit_points[:, :, 0] = x_exit\n",
    "exit_points[:, :, 1] = y_exit\n",
    "exit_points[:, :, 2] = exit_f_distance"
   ],
   "metadata": {
    "collapsed": false,
    "pycharm": {
     "name": "#%%\n"
    }
   }
  },
  {
   "cell_type": "markdown",
   "source": [
    "2. Инициализация примитива \"QuadricPrimitive\" используемой поверхности. Отвечает за трассировку, экспорт и обновление параметров."
   ],
   "metadata": {
    "collapsed": false,
    "pycharm": {
     "name": "#%% md\n"
    }
   }
  },
  {
   "cell_type": "code",
   "execution_count": null,
   "outputs": [],
   "source": [
    "quadric_surface = FocusLensQuadricPrimitive(exit_points, exit_f_distance, n_ref, use_closest_surface)\n",
    "# quadric_surface = FocusDOEQuadricPrimitive(exit_points, exit_f_distance, use_closest_surface)"
   ],
   "metadata": {
    "collapsed": false,
    "pycharm": {
     "name": "#%%\n"
    }
   }
  },
  {
   "cell_type": "code",
   "execution_count": null,
   "outputs": [],
   "source": [
    "# Save descr file\n",
    "quadric_surface.save(save_surface_file_name)"
   ],
   "metadata": {
    "collapsed": false,
    "pycharm": {
     "name": "#%%\n"
    }
   }
  },
  {
   "cell_type": "code",
   "execution_count": null,
   "outputs": [],
   "source": [
    "# quadric_surface = FocusLensQuadricPrimitive.load(load_surface_file_name)\n",
    "# quadric_surface = FocusDOEQuadricPrimitive.load(load_surface_file_name)\n",
    "#\n",
    "# with open(load_project_file_name, 'rb') as file:\n",
    "#     project = pickle.load(file)\n",
    "#\n",
    "#     quadrics = project['quadrics']\n",
    "#     distributions = project['design_logs']['optim_req_distrs']\n",
    "#     rays = project['rays']"
   ],
   "metadata": {
    "collapsed": false,
    "pycharm": {
     "name": "#%%\n"
    }
   }
  },
  {
   "cell_type": "markdown",
   "source": [
    "3. Подготовка к оптимизации - рассчет базовых значений параметров квадрик, которые будут референтными для остальных"
   ],
   "metadata": {
    "collapsed": false,
    "pycharm": {
     "name": "#%% md\n"
    }
   }
  },
  {
   "cell_type": "code",
   "execution_count": null,
   "outputs": [],
   "source": [
    "### Параметры для оптимизации 16х16:\n",
    "### C фиксацией, плоский фронт, [1e-1, 1e-4]: (15к лучей, 5к итераций, err = 1.63),(25к лучей, 5к итераций, err = 0.92)\n",
    "### Без фиксации, плоский фронт, [1e-1, 1e-4]: (15к лучей, 1.5к итераций, err = 1.24),(25к лучей, 1.5к итераций, err = 0.72), (40к лучей, 1.5к итераций, err = 0.51)\n",
    "###\n",
    "###\n",
    "\n",
    "\n",
    "init_quad_value = 20\n",
    "quadrics = init_quad_value\n",
    "\n",
    "optim_start_step = 1e1\n",
    "optim_end_step = 1e-4\n",
    "optim_num_iters_base = int(1.5e3)\n",
    "\n",
    "uniform_req_distr = np.ones((1, exit_x_num, exit_x_num), dtype=dtype) / (exit_x_num*exit_x_num)\n",
    "fixed_quads = np.zeros((1, exit_x_num, exit_x_num), dtype=bool)\n",
    "fixed_quads[0, int(np.ceil(exit_x_num/2)), int(np.ceil(exit_x_num/2))] = True\n",
    "\n",
    "uniform_quadric, loss, time_total, quads_log = opt_util.run_oliker_optimization(quadric_surface, uniform_req_distr, rays,\n",
    "                                                                                 quadrics=quadrics,\n",
    "                                                                                 # fixed_quads=fixed_quads,\n",
    "                                                                                 step=optim_start_step,\n",
    "                                                                                 num_iters=optim_num_iters_base,\n",
    "                                                                                 end_step=optim_end_step\n",
    "                                                                                 )"
   ],
   "metadata": {
    "collapsed": false,
    "pycharm": {
     "name": "#%%\n"
    }
   }
  },
  {
   "cell_type": "code",
   "execution_count": null,
   "outputs": [],
   "source": [
    "tracing_result, _ = quadric_surface.trace_rays_batch(uniform_quadric, rays)\n",
    "rrmse = en_util.masked_rrmse_loss_batch(uniform_req_distr, tracing_result)\n",
    "print(rrmse)\n",
    "disp_util.display_random_pairs([uniform_req_distr], [tracing_result], titles=['Required image','Traced Quadrics'])\n",
    "disp_util.display_2D_func(loss[0,:],title='Loss per iters')"
   ],
   "metadata": {
    "collapsed": false,
    "pycharm": {
     "name": "#%%\n"
    }
   }
  },
  {
   "cell_type": "markdown",
   "source": [
    "4. Запуск основного цикла по батчам. На каждой итерации происходит:\n",
    "        Инициализация требуемых распределений освещенности и начальных значений квадрик\n",
    "        Оптимизация квадрик с помощью вызова статической функции \"opt_util.run_oliker_optimization\"\n",
    "        Запись результатов в новый файл"
   ],
   "metadata": {
    "collapsed": false,
    "pycharm": {
     "name": "#%% md\n"
    }
   }
  },
  {
   "cell_type": "code",
   "execution_count": null,
   "outputs": [],
   "source": [
    "import shutil\n",
    "\n",
    "# Prepare folder and file names for data export\n",
    "if delete_folder_if_exists and os.path.isdir(batch_folder_name):\n",
    "    shutil.rmtree(batch_folder_name)\n",
    "\n",
    "if not os.path.isdir(batch_folder_name):\n",
    "     os.mkdir(batch_folder_name)\n",
    "\n",
    "filename_index = 1\n",
    "with os.scandir(batch_folder_name) as it:\n",
    "    for entry in it:\n",
    "        if entry.is_file:\n",
    "            base, ext = os.path.splitext(entry.name)\n",
    "            if base.startswith(batch_file_default_name):\n",
    "                base_parts = base.partition(batch_file_default_name+\"_\")\n",
    "                cur_index = int(base_parts[2])\n",
    "                filename_index = max(cur_index+1, filename_index)"
   ],
   "metadata": {
    "collapsed": false,
    "pycharm": {
     "name": "#%%\n"
    }
   }
  },
  {
   "cell_type": "code",
   "execution_count": null,
   "outputs": [],
   "source": [
    "np_max = int(0.8 * exit_x_num ** 2)\n",
    "np_min = int(0.2 * exit_x_num ** 2)\n",
    "\n",
    "# optim_start_step = 1e1\n",
    "# optim_end_step = 1e-4\n",
    "optim_num_iters = int(0.8 * optim_num_iters_base)"
   ],
   "metadata": {
    "collapsed": false,
    "pycharm": {
     "name": "#%%\n"
    }
   }
  },
  {
   "cell_type": "code",
   "execution_count": null,
   "outputs": [],
   "source": [
    "for k in range(num_batches):\n",
    "    # Generate required distributions\n",
    "    distributions = en_util.random_distribution(exit_x_num, np_min, np_max, total_flux=total_flux, batch_size=num_samples_in_batch, dtype=dtype)\n",
    "\n",
    "    # Find center of each req_distr and freeze it quadrics with precalculated one on the uniform field\n",
    "    inds = np.indices((exit_x_num, exit_x_num))\n",
    "    fixed_quads = np.zeros(distributions.shape, dtype=bool)\n",
    "    quadrics = np.zeros(distributions.shape, dtype=dtype)\n",
    "    for i in range(num_samples_in_batch):\n",
    "        good_vals = distributions[i] > 0\n",
    "\n",
    "        y_inds = inds[0][good_vals]\n",
    "        x_inds = inds[1][good_vals]\n",
    "\n",
    "        inds_dist = (y_inds - np.mean(y_inds)) ** 2 + (x_inds - np.mean(x_inds)) ** 2\n",
    "        center_ind = np.argmin(inds_dist)\n",
    "\n",
    "        y_center = y_inds[center_ind]\n",
    "        x_center = x_inds[center_ind]\n",
    "\n",
    "        quadrics[i,:] = uniform_quadric[0,y_center,x_center]\n",
    "        fixed_quads[i,y_center,x_center] = True\n",
    "\n",
    "\n",
    "    # Optimize quadrics\n",
    "    quadrics, loss, time_total, _ = opt_util.run_oliker_optimization(quadric_surface, distributions, rays,\n",
    "                                                                             quadrics=quadrics,\n",
    "                                                                             # fixed_quads=fixed_quads,\n",
    "                                                                             step=optim_start_step,\n",
    "                                                                             num_iters=optim_num_iters,\n",
    "                                                                             end_step=optim_end_step\n",
    "                                                                             )\n",
    "\n",
    "    tracing_results, _ = quadric_surface.trace_rays_batch(quadrics, rays)\n",
    "    rrmse = en_util.masked_rrmse_loss_batch(distributions, tracing_results)\n",
    "    optim_params = np.tile([optim_start_step, optim_end_step, optim_num_iters], (num_samples_in_batch,1))\n",
    "\n",
    "    new_file_name = batch_file_default_name + \"_\" + str(filename_index + k) + batch_file_ext\n",
    "    new_file_name = os.path.join(batch_folder_name, new_file_name)\n",
    "    files_util.save_quads(new_file_name, quadrics, distributions, rays, project_params,\n",
    "                   loss=loss, time_total=time_total, rrmse=rrmse,\n",
    "                   optim_params=optim_params, tracing_results=tracing_results)\n",
    "\n",
    "    print(f'It{filename_index + k} RRMSE: Mean = {rrmse.mean()}; Max = {rrmse.max()}; Min = {rrmse.min()}')"
   ],
   "metadata": {
    "collapsed": false,
    "pycharm": {
     "name": "#%%\n"
    }
   }
  }
 ],
 "metadata": {
  "kernelspec": {
   "display_name": "Python 3",
   "language": "python",
   "name": "python3"
  },
  "language_info": {
   "codemirror_mode": {
    "name": "ipython",
    "version": 2
   },
   "file_extension": ".py",
   "mimetype": "text/x-python",
   "name": "python",
   "nbconvert_exporter": "python",
   "pygments_lexer": "ipython2",
   "version": "2.7.6"
  }
 },
 "nbformat": 4,
 "nbformat_minor": 0
}