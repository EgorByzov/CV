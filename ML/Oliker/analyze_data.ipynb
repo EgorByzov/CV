{
 "cells": [
  {
   "cell_type": "code",
   "execution_count": 1,
   "metadata": {
    "collapsed": true,
    "pycharm": {
     "name": "#%%\n"
    }
   },
   "outputs": [],
   "source": [
    "import numpy as np\n",
    "\n",
    "from src.focus_lens_quadric_primitive import FocusLensQuadricPrimitive\n",
    "from src.focus_doe_quadric_primitive import FocusDOEQuadricPrimitive\n",
    "import src.utils_energy_distribution as en_util\n",
    "\n",
    "import src.utils_display as disp_util\n",
    "import src.utils_files as files_util"
   ]
  },
  {
   "cell_type": "code",
   "execution_count": 2,
   "outputs": [],
   "source": [
    "batch_folder_name = \"quad_batches\"\n",
    "\n",
    "save_quads_file_name = 'data/30k16x16.ebv'\n",
    "load_quads_file_name = 'data/30k16x16.ebv'\n",
    "\n",
    "load_surface_file_name = 'data/16x16_surf.ebv'"
   ],
   "metadata": {
    "collapsed": false,
    "pycharm": {
     "name": "#%%\n"
    }
   }
  },
  {
   "cell_type": "code",
   "execution_count": 3,
   "outputs": [
    {
     "name": "stdout",
     "output_type": "stream",
     "text": [
      "Total number of samples = 30208\n"
     ]
    }
   ],
   "source": [
    "import shutil\n",
    "import os\n",
    "\n",
    "# # # Unite quad batches\n",
    "files_util.unite_quads(save_quads_file_name, folder_name=batch_folder_name)\n",
    "# # # delete folder\n",
    "# if os.path.isdir(batch_folder_name):\n",
    "#     shutil.rmtree(batch_folder_name)"
   ],
   "metadata": {
    "collapsed": false,
    "pycharm": {
     "name": "#%%\n"
    }
   }
  },
  {
   "cell_type": "markdown",
   "source": [
    "Load DATA"
   ],
   "metadata": {
    "collapsed": false,
    "pycharm": {
     "name": "#%% md\n"
    }
   }
  },
  {
   "cell_type": "code",
   "execution_count": null,
   "outputs": [],
   "source": [
    "quadric_surface = FocusLensQuadricPrimitive.load(load_surface_file_name)\n",
    "# quadric_surface = FocusDOEQuadricPrimitive.load(load_surface_file_name)\n",
    "\n",
    "params, quadrics, req_distrs, rays, design_logs = files_util.load_quads(load_quads_file_name)\n",
    "\n",
    "num_samples = quadrics.shape[0]"
   ],
   "metadata": {
    "collapsed": false,
    "pycharm": {
     "name": "#%%\n"
    }
   }
  },
  {
   "cell_type": "code",
   "execution_count": null,
   "outputs": [],
   "source": [
    "tracing_results, _ = quadric_surface.trace_rays_batch(quadrics, rays)\n",
    "rrmse = en_util.masked_rrmse_loss_batch(req_distrs, tracing_results)\n",
    "\n",
    "print(f'RRMSE: Mean = {rrmse.mean()}; Max = {rrmse.max()}; Min = {rrmse.min()}')"
   ],
   "metadata": {
    "collapsed": false,
    "pycharm": {
     "name": "#%%\n"
    }
   }
  },
  {
   "cell_type": "code",
   "execution_count": null,
   "outputs": [],
   "source": [
    "mean_quads = np.zeros((num_samples, 1))\n",
    "for i in range(num_samples):\n",
    "    good_vals = np.isfinite(quadrics[i,:])\n",
    "    mean_quads[i] = quadrics[i][good_vals].mean()\n",
    "mid_quad = mean_quads.mean()\n",
    "\n",
    "disp = ((mean_quads-mid_quad)**2).sum()/num_samples\n",
    "\n",
    "print(f'Mean quad value = {mid_quad}. Mean quad dispersion = {disp}')"
   ],
   "metadata": {
    "collapsed": false,
    "pycharm": {
     "name": "#%%\n"
    }
   }
  },
  {
   "cell_type": "code",
   "execution_count": null,
   "outputs": [],
   "source": [
    "import numpy as np\n",
    "from matplotlib import pyplot as plt\n",
    "\n",
    "ind = disp_util.display_random_pairs([req_distrs], [tracing_results], titles=['Required image','Traced Quadrics'])\n",
    "disp_util.display_figs([quadrics[ind]], titles=['Calculated Quadrics'])\n",
    "\n",
    "disp_util.display_2D_func(design_logs['loss'][ind,:],title='Loss per iters')"
   ],
   "metadata": {
    "collapsed": false,
    "pycharm": {
     "name": "#%%\n"
    }
   }
  }
 ],
 "metadata": {
  "kernelspec": {
   "display_name": "Python 3",
   "language": "python",
   "name": "python3"
  },
  "language_info": {
   "codemirror_mode": {
    "name": "ipython",
    "version": 2
   },
   "file_extension": ".py",
   "mimetype": "text/x-python",
   "name": "python",
   "nbconvert_exporter": "python",
   "pygments_lexer": "ipython2",
   "version": "2.7.6"
  }
 },
 "nbformat": 4,
 "nbformat_minor": 0
}