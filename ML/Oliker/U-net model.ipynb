{
 "cells": [
  {
   "cell_type": "code",
   "execution_count": 61,
   "outputs": [
    {
     "name": "stdout",
     "output_type": "stream",
     "text": [
      "Using cuda device\n"
     ]
    }
   ],
   "source": [
    "import torch\n",
    "from tqdm import trange\n",
    "from sklearn.model_selection import train_test_split\n",
    "import math\n",
    "\n",
    "from src.focus_lens_quadric_primitive import FocusLensQuadricPrimitive\n",
    "import src.utils_energy_distribution as en_util\n",
    "from src.nn_modules import *\n",
    "from src.utils_scaling import *\n",
    "import src.utils_optimization as opt_util\n",
    "import src.utils_display as disp_util\n",
    "\n",
    "from torch.masked import masked_tensor, as_masked_tensor\n",
    "\n",
    "# torch.autograd.set_detect_anomaly(True)\n",
    "\n",
    "device = (\"cuda\" if torch.cuda.is_available() else \"cpu\")\n",
    "print(f\"Using {device} device\")"
   ],
   "metadata": {
    "collapsed": false,
    "pycharm": {
     "name": "#%%\n"
    }
   }
  },
  {
   "cell_type": "code",
   "execution_count": 62,
   "outputs": [],
   "source": [
    "save_NN_file_name = 'data/16x16_UNextNN.ebv'\n",
    "load_NN_file_name = 'data/16x16_UNextNN.ebv'\n",
    "\n",
    "load_surface_file_name = 'data/16x16_surf.ebv'\n",
    "load_project_file_name = 'data/30k16x16.ebv'"
   ],
   "metadata": {
    "collapsed": false,
    "pycharm": {
     "name": "#%%\n"
    }
   }
  },
  {
   "cell_type": "markdown",
   "source": [
    "Load data"
   ],
   "metadata": {
    "collapsed": false,
    "pycharm": {
     "name": "#%% md\n"
    }
   }
  },
  {
   "cell_type": "code",
   "execution_count": 63,
   "outputs": [],
   "source": [
    "quadric_surface = FocusLensQuadricPrimitive.load(load_surface_file_name)\n",
    "# quadric_surface = FocusDOEQuadricPrimitive.load(load_surface_file_name)\n",
    "#\n",
    "with open(load_project_file_name, 'rb') as file:\n",
    "    project = pickle.load(file)\n",
    "\n",
    "    quadrics = project['quadrics']\n",
    "    req_distrs = project['req_distrs']\n",
    "    rays = project['rays']\n",
    "    optim_tracing_results = project['design_logs']['tracing_results']\n",
    "\n",
    "torch_dtype = torch.float32 if quadrics.dtype == np.single else torch.double"
   ],
   "metadata": {
    "collapsed": false,
    "pycharm": {
     "name": "#%%\n"
    }
   }
  },
  {
   "cell_type": "markdown",
   "source": [
    "Prepare data"
   ],
   "metadata": {
    "collapsed": false,
    "pycharm": {
     "name": "#%% md\n"
    }
   }
  },
  {
   "cell_type": "code",
   "execution_count": 64,
   "outputs": [],
   "source": [
    "num_imgs = quadrics.shape[0]\n",
    "good_quads = np.isfinite(quadrics)\n",
    "\n",
    "# # # Привести значения квадрик к новому интервалу\n",
    "# new_interval = [10, 255]\n",
    "# quadrics[good_quads], linear_coeffs, old_interval = linear_scaling(quadrics[good_quads], new_interval)\n",
    "\n",
    "linear_coeffs = [1, 0]\n",
    "# quadrics[~good_quads] = 0\n",
    "quadric_surface.to_CNN(quadrics, req_distrs)"
   ],
   "metadata": {
    "collapsed": false,
    "pycharm": {
     "name": "#%%\n"
    }
   }
  },
  {
   "cell_type": "code",
   "execution_count": 65,
   "outputs": [],
   "source": [
    "# #DATA CONSISTANCE CHECK\n",
    "# tmp_quadrics = linear_inverse_scaling(quadrics, linear_coeffs)\n",
    "# tmp_quadrics = opt_util.numpy2torch_batch(tmp_quadrics, device)\n",
    "# tmp_quadrics = opt_util.torch2numpy_batch(tmp_quadrics)\n",
    "# tmp_quadrics[req_distrs <= 0] = -np.inf\n",
    "# tmp_traced, _ = quadric_surface.trace_rays_batch(tmp_quadrics, rays)\n",
    "#\n",
    "# i = disp_util.display_random_pairs([req_distrs, req_distrs], [optim_tracing_results, tmp_traced],\n",
    "#                                    titles=['Req Distr(Ideal)', 'Req Distr(optim)', 'Req Distr(Ideal)', 'Traced Quads'])"
   ],
   "metadata": {
    "collapsed": false,
    "pycharm": {
     "name": "#%%\n"
    }
   }
  },
  {
   "cell_type": "markdown",
   "source": [
    "Pack data"
   ],
   "metadata": {
    "collapsed": false,
    "pycharm": {
     "name": "#%% md\n"
    }
   }
  },
  {
   "cell_type": "code",
   "execution_count": 66,
   "outputs": [],
   "source": [
    "quadrics = opt_util.numpy2torch_batch(quadrics, device)\n",
    "req_distrs = opt_util.numpy2torch_batch(req_distrs, device)\n",
    "\n",
    "X_train, X_test, y_train, y_test = train_test_split(req_distrs, quadrics, test_size=0.15, random_state=33)"
   ],
   "metadata": {
    "collapsed": false,
    "pycharm": {
     "name": "#%%\n"
    }
   }
  },
  {
   "cell_type": "code",
   "execution_count": 67,
   "outputs": [],
   "source": [
    "X_test_np = opt_util.torch2numpy_batch(X_test.cpu())\n",
    "y_test_np = opt_util.torch2numpy_batch(y_test.cpu())"
   ],
   "metadata": {
    "collapsed": false,
    "pycharm": {
     "name": "#%%\n"
    }
   }
  },
  {
   "cell_type": "code",
   "execution_count": 68,
   "outputs": [],
   "source": [
    "mask = X_train <= 0\n",
    "X_train = X_train/X_train\n",
    "X_train[mask] = 0\n",
    "\n",
    "mask = X_test <= 0\n",
    "X_test = X_test/X_test\n",
    "X_test[mask] = 0"
   ],
   "metadata": {
    "collapsed": false,
    "pycharm": {
     "name": "#%%\n"
    }
   }
  },
  {
   "cell_type": "markdown",
   "source": [
    "Prepare U-Net MODEL"
   ],
   "metadata": {
    "collapsed": false,
    "pycharm": {
     "name": "#%% md\n"
    }
   }
  },
  {
   "cell_type": "code",
   "execution_count": 69,
   "outputs": [],
   "source": [
    "# ndepth = 3\n",
    "# nwidth = 2\n",
    "# ndeg = 4\n",
    "#\n",
    "# model = OlikerUNet(quad_linear_coeffs=linear_coeffs, net_depth=ndepth, net_width=nwidth, base_degree=ndeg)"
   ],
   "metadata": {
    "collapsed": false,
    "pycharm": {
     "name": "#%%\n"
    }
   }
  },
  {
   "cell_type": "code",
   "execution_count": 70,
   "outputs": [],
   "source": [
    "# model = convnext_base(output_linear_coeffs=linear_coeffs,output_dim=16)"
   ],
   "metadata": {
    "collapsed": false,
    "pycharm": {
     "name": "#%%\n"
    }
   }
  },
  {
   "cell_type": "code",
   "execution_count": 71,
   "outputs": [],
   "source": [
    "model = unext_base(output_linear_coeffs=linear_coeffs,output_dim=16)"
   ],
   "metadata": {
    "collapsed": false,
    "pycharm": {
     "name": "#%%\n"
    }
   }
  },
  {
   "cell_type": "code",
   "execution_count": 72,
   "outputs": [],
   "source": [
    "# criterion = nn.CrossEntropyLoss()\n",
    "# criterion = nn.BCELoss()\n",
    "# criterion = nn.KLDivLoss(reduction=\"batchmean\")\n",
    "criterion = nn.MSELoss()"
   ],
   "metadata": {
    "collapsed": false,
    "pycharm": {
     "name": "#%%\n"
    }
   }
  },
  {
   "cell_type": "code",
   "execution_count": 73,
   "outputs": [],
   "source": [
    "del quadrics, req_distrs, optim_tracing_results"
   ],
   "metadata": {
    "collapsed": false,
    "pycharm": {
     "name": "#%%\n"
    }
   }
  },
  {
   "cell_type": "markdown",
   "source": [
    "Load MODEL"
   ],
   "metadata": {
    "collapsed": false,
    "pycharm": {
     "name": "#%% md\n"
    }
   }
  },
  {
   "cell_type": "code",
   "execution_count": 74,
   "outputs": [],
   "source": [
    "# model = OlikerUNet.from_file(load_NN_file_name)\n",
    "# model = ConvNeXt.from_file(load_NN_file_name)\n",
    "# model.eval()"
   ],
   "metadata": {
    "collapsed": false,
    "pycharm": {
     "name": "#%%\n"
    }
   }
  },
  {
   "cell_type": "code",
   "execution_count": 75,
   "outputs": [
    {
     "name": "stdout",
     "output_type": "stream",
     "text": [
      "Module parameters count: 13664788\n"
     ]
    }
   ],
   "source": [
    "num_model_params = sum(p.numel() for p in model.parameters() if p.requires_grad)\n",
    "print('Module parameters count: ' + str(num_model_params))"
   ],
   "metadata": {
    "collapsed": false,
    "pycharm": {
     "name": "#%%\n"
    }
   }
  },
  {
   "cell_type": "markdown",
   "source": [
    "Train model"
   ],
   "metadata": {
    "collapsed": false,
    "pycharm": {
     "name": "#%% md\n"
    }
   }
  },
  {
   "cell_type": "code",
   "execution_count": 76,
   "outputs": [],
   "source": [
    "loss_per_iter = []\n",
    "loss_per_epoch = []\n",
    "lr_per_iter = []"
   ],
   "metadata": {
    "collapsed": false,
    "pycharm": {
     "name": "#%%\n"
    }
   }
  },
  {
   "cell_type": "code",
   "execution_count": 77,
   "outputs": [],
   "source": [
    "train_size = X_train.shape[0]\n",
    "num_epochs = 100\n",
    "batch_size = 128\n",
    "num_batches_in_epoch = math.ceil(train_size / batch_size)\n",
    "num_iters_to_step = 10\n",
    "\n",
    "start_lr = 1e-2\n",
    "end_lr = 1e-6\n",
    "num_steps = int(num_batches_in_epoch * num_epochs / num_iters_to_step)\n",
    "lr_gamma = pow(end_lr/start_lr, 1/num_steps)\n",
    "# lr_gamma = 0.99\n",
    "\n",
    "optimizer = torch.optim.Adam(model.parameters(), lr=start_lr)\n",
    "scheduler = torch.optim.lr_scheduler.ExponentialLR(optimizer, gamma=lr_gamma)"
   ],
   "metadata": {
    "collapsed": false,
    "pycharm": {
     "name": "#%%\n"
    }
   }
  },
  {
   "cell_type": "code",
   "execution_count": null,
   "outputs": [
    {
     "name": "stderr",
     "output_type": "stream",
     "text": [
      " 39%|███▉      | 7898/20100 [4:16:45<7:17:51,  2.15s/it, Mean_loss: 0.002099, lr: 2.765611e-04, num iters per epoch: 201] "
     ]
    }
   ],
   "source": [
    "model.to(dtype=torch_dtype,device=device)\n",
    "X_train = X_train.to(device)\n",
    "y_train = y_train.to(device)\n",
    "\n",
    "model.train()\n",
    "inds = np.arange(train_size)\n",
    "progress = trange(num_epochs * num_batches_in_epoch)\n",
    "\n",
    "mean_loss = 0\n",
    "for iter in progress:\n",
    "    if iter % num_batches_in_epoch == 0:\n",
    "        np.random.shuffle(inds)\n",
    "        start_ind = 0\n",
    "\n",
    "    end_ind = start_ind + batch_size\n",
    "    end_ind = end_ind if end_ind <= X_train.shape[0] else X_train.shape[0]\n",
    "\n",
    "    cur_inds = inds[start_ind:end_ind]\n",
    "\n",
    "    # Прямой запуск\n",
    "    inputs = X_train[cur_inds]\n",
    "    outputs = model(inputs)\n",
    "\n",
    "    # mask = inputs <= 0\n",
    "    # # out_masked = masked_tensor(outputs, mask)\n",
    "    # outputs = outputs.masked_fill(mask, 0)\n",
    "\n",
    "    # loss = torch.sum(((1-y_train[cur_inds]/outputs)*inputs)**2,dim=(2,3)) / torch.sum(inputs,dim=(2,3))\n",
    "    # loss = loss.max()\n",
    "    loss = criterion(outputs, y_train[cur_inds])\n",
    "    # Обратное распространение и оптимизатор\n",
    "    optimizer.zero_grad()\n",
    "    loss.backward()\n",
    "    optimizer.step()\n",
    "\n",
    "    loss_per_iter.append(loss.item())\n",
    "    lr_per_iter.append(scheduler.get_last_lr()[0])\n",
    "\n",
    "    if (iter + 1) % num_iters_to_step == 0:\n",
    "        scheduler.step()\n",
    "    # if (iter + 1) % 2 == 0:\n",
    "    #     progress.set_postfix_str(f\"Loss: {loss.item() :.6f}, lr: {scheduler.get_last_lr()[0] :e}\")\n",
    "\n",
    "    mean_loss = mean_loss + loss.item()\n",
    "\n",
    "    if (iter+1) % num_batches_in_epoch == 0:\n",
    "        loss_per_epoch.append(mean_loss/num_batches_in_epoch)\n",
    "        progress.set_postfix_str(f\"Mean_loss: {loss_per_epoch[-1] :.6f}, lr: {lr_per_iter[-1] :e}, num iters per epoch: {num_batches_in_epoch:d}\")\n",
    "        mean_loss = 0\n",
    "\n",
    "    start_ind = end_ind"
   ],
   "metadata": {
    "collapsed": false,
    "pycharm": {
     "name": "#%%\n",
     "is_executing": true
    }
   }
  },
  {
   "cell_type": "code",
   "execution_count": null,
   "outputs": [],
   "source": [
    "disp_util.display_optimization_stats(loss=loss_per_iter, loss_per_epoch=loss_per_epoch, lr=lr_per_iter)"
   ],
   "metadata": {
    "collapsed": false,
    "pycharm": {
     "name": "#%%\n",
     "is_executing": true
    }
   }
  },
  {
   "cell_type": "markdown",
   "source": [
    "Save MODEL"
   ],
   "metadata": {
    "collapsed": false,
    "pycharm": {
     "name": "#%% md\n"
    }
   }
  },
  {
   "cell_type": "code",
   "execution_count": null,
   "outputs": [],
   "source": [
    "model.save(save_NN_file_name)"
   ],
   "metadata": {
    "collapsed": false,
    "pycharm": {
     "name": "#%%\n",
     "is_executing": true
    }
   }
  },
  {
   "cell_type": "markdown",
   "source": [
    "Model evaluation"
   ],
   "metadata": {
    "collapsed": false,
    "pycharm": {
     "name": "#%% md\n"
    }
   }
  },
  {
   "cell_type": "code",
   "execution_count": null,
   "outputs": [],
   "source": [
    "model.eval()\n",
    "model.cpu()\n",
    "X_test = X_test.cpu()\n",
    "batch_size = 128\n",
    "\n",
    "test_pred = model.batch_eval(X_test, batch_size)\n",
    "test_pred = opt_util.torch2numpy_batch(test_pred)\n",
    "\n",
    "test_pred_shifted = model.batch_scaled_eval(X_test, batch_size)\n",
    "test_pred_shifted = opt_util.torch2numpy_batch(test_pred_shifted)\n",
    "\n",
    "quadric_surface.to_Oliker(test_pred_shifted, X_test_np)\n",
    "pred_traced, _ = quadric_surface.trace_rays_batch(test_pred_shifted, rays)\n",
    "\n",
    "quad_rrmse = en_util.masked_rrmse_loss_batch(y_test_np, test_pred)\n",
    "distr_rrmse = en_util.masked_rrmse_loss_batch(X_test_np, pred_traced)\n",
    "\n",
    "print(f\"Quad RRMSE= {quad_rrmse.mean() :.4f}%. Illum RRMSE= {distr_rrmse.mean() :.4f}%.\")"
   ],
   "metadata": {
    "collapsed": false,
    "pycharm": {
     "name": "#%%\n",
     "is_executing": true
    }
   }
  },
  {
   "cell_type": "code",
   "execution_count": null,
   "outputs": [],
   "source": [
    "i = disp_util.display_random_pairs([X_test_np, y_test_np], [pred_traced, test_pred],\n",
    "                                   titles=['Req Distr', 'Prediction traced', 'Req Quads', 'Predicted Quads'])"
   ],
   "metadata": {
    "collapsed": false,
    "pycharm": {
     "name": "#%%\n",
     "is_executing": true
    }
   }
  }
 ],
 "metadata": {
  "kernelspec": {
   "display_name": "Python 3",
   "language": "python",
   "name": "python3"
  },
  "language_info": {
   "codemirror_mode": {
    "name": "ipython",
    "version": 2
   },
   "file_extension": ".py",
   "mimetype": "text/x-python",
   "name": "python",
   "nbconvert_exporter": "python",
   "pygments_lexer": "ipython2",
   "version": "2.7.6"
  }
 },
 "nbformat": 4,
 "nbformat_minor": 0
}